{
 "cells": [
  {
   "cell_type": "markdown",
   "metadata": {},
   "source": [
    "<div style=\"background-color:#009440; padding: 0px; background-size:cover; background-opacity:50%; border-radius:5px; height: 300px\">\n",
    "    <div style=\"margin: 5px; padding: 10px;\"><h1 style=\"color:#00000\">Geophysical Data Acquisition and Analysis</h1>\n",
    "    <h4 style=\"color:#dddddd\">LMU, 05/06 August 2019</h4>\n",
    "        <h4 style=\"color:#dddddd\">Authors: Ceri Nunn, Stefanie Donner, Alice Gabriel, Céline Hadziioannou, Stephanie Wollherr, Taufiqurrahman</h4>\n",
    "    </div>\n",
    "    <div style=\"float:right; margin: 10px; padding: 20px; background:rgba(255,255,255,0.7); width: 70%; height: 150px\">\n",
    "        <div style=\"position:relative; top:30%; transform: translateY(-50%)\">\n",
    "            <div style=\"font-size: x-large; font-weight:900; color:rgba(0,0,0,0.8); line-height:100%\">P03b - Mathematical Basics: Complex Numbers, Div, Grad, & Curl of a vector field, Delta function, Taylor Series, Fourier Series </div>\n",
    "                    </div>\n",
    "    </div>\n",
    "</div>\n"
   ]
  },
  {
   "cell_type": "markdown",
   "metadata": {},
   "source": [
    "This notebook provides some basic maths for seismic data processing and inverse problems. \n",
    "It is intended to be refreshment only.\n",
    "The notebook provides some examples of the mathematics being used. We include examples of the use of the techniques in geophysics.  \n"
   ]
  },
  {
   "cell_type": "markdown",
   "metadata": {},
   "source": [
    "Please execute Cell 1 first:"
   ]
  },
  {
   "cell_type": "code",
   "execution_count": 1,
   "metadata": {
    "collapsed": true
   },
   "outputs": [],
   "source": [
    "# Cell 1: Preparation for programming\n",
    "import warnings\n",
    "warnings.filterwarnings(\"ignore\")\n",
    "%matplotlib notebook\n",
    "from scipy import interpolate, signal\n",
    "import numpy as np\n",
    "import matplotlib.pylab as plt\n",
    "# plt.style.use('ggplot')\n",
    "plt.rcParams['figure.figsize'] = 8, 3"
   ]
  },
  {
   "cell_type": "markdown",
   "metadata": {},
   "source": [
    "## 1) Complex Numbers "
   ]
  },
  {
   "cell_type": "markdown",
   "metadata": {},
   "source": [
    "Representation of a number in the form $a + ib$, where $a$ and $b$ are real numbers, and $i$ is called an imaginary number, which is defined by its property $i^2 = −1$\n",
    "\n",
    "<img src=\"images/complex1.png\" style=\"width: 500px; float: left;\"/>"
   ]
  },
  {
   "cell_type": "markdown",
   "metadata": {},
   "source": [
    "The **complex conjugate** of a complex number is the number with equal real part and imaginary part equal in magnitude but opposite in sign. For example, the complex conjugate of $3 + 4i$ is $3 − 4i$.\n",
    "\n",
    "<img src=\"images/complex2a_new.png\" style=\"width: 300px; float: left;\"/>"
   ]
  },
  {
   "cell_type": "markdown",
   "metadata": {},
   "source": [
    "The absolute square of a complex number $z$, also known as the squared norm, is defined as: \n",
    "\n",
    "<img src=\"images/complex2b_new.png\" style=\"width: 300px; float: left;\"/>"
   ]
  },
  {
   "cell_type": "markdown",
   "metadata": {},
   "source": [
    "where $z^*$ denotes the complex conjugate of $z$.\n",
    "\n",
    "If the complex number is written $z=x+iy$, with $x$ and $y$ real, then the absolute square can be written \n",
    "\n",
    "$$ \\mid {x+iy} \\mid {^2} =x^2+y^2$$\n",
    "\n",
    "\n",
    "The definitions also give the following identity: \n",
    "\n",
    "<img src=\"images/complex2c.png\" style=\"width: 200px; float: left;\"/>\n"
   ]
  },
  {
   "cell_type": "markdown",
   "metadata": {
    "collapsed": true
   },
   "source": [
    "Some example applications: \n",
    "\n",
    "* Discretizing signals, description with $e^{i\\omega t}$\n",
    "* Poles and zeros for filter descriptions \n",
    "* Elastic plane waves\n",
    "* Analysis of numerical approximations"
   ]
  },
  {
   "cell_type": "markdown",
   "metadata": {},
   "source": [
    "## 2) Vector Fields - some operations \n",
    "\n",
    "#### Gradient of a vector field\n",
    "\n",
    "The gradient is a multi-variable generalization of a derivative.\n",
    "In contrast to a derivative which is a scalar, the gradient is a vector-valued function.\n",
    "\n",
    "<img src=\"images/vecfield1.png\" style=\"width: 400px; float: left;\"/>\n"
   ]
  },
  {
   "cell_type": "markdown",
   "metadata": {},
   "source": [
    "<img src=\"images/Gradient_Visual.png\" style=\"width: 400px; float: left;\"/>\n",
    "\n"
   ]
  },
  {
   "cell_type": "markdown",
   "metadata": {},
   "source": [
    "\n",
    "### Question \n",
    "\n",
    "What is the meaning of the gradient in the picture above? Can you tell where the bottom of the hill is from the gradient vectors alone? Where are the steepest slopes?\n",
    "\n"
   ]
  },
  {
   "cell_type": "markdown",
   "metadata": {},
   "source": [
    "#### Divergence of a vector field\n",
    "\n",
    "<img src=\"images/vecfield2.png\" style=\"width: 400px; float: left;\"/>\n",
    "\n",
    "\n"
   ]
  },
  {
   "cell_type": "markdown",
   "metadata": {},
   "source": [
    "\n",
    "A nice way to think about divergence of vector fields is to imagine the fluid flow they could represent. Specifically, for each point, imagine a particle sitting at that point, and flowing away from that point (expansion, positive divergence) or torwards the point (contraction, negative divergence).\n",
    "\n",
    "\n",
    "The divergence measures how much the flow is expanding/contracting at a given point. It does not indicate in which direction it is occuring. Hence (in contrast to the curl of a vector field), the divergence is a scalar. \n",
    "\n",
    "<img src=\"images/divergence_mathinsight.png\" style=\"width: 400px; float: left;\"/>\n",
    "\n"
   ]
  },
  {
   "cell_type": "markdown",
   "metadata": {},
   "source": [
    "#### Curl of a vector field\n",
    "\n",
    "\n",
    "<img src=\"images/cross_product.png\" style=\"width: 600px; float: left;\"/>"
   ]
  },
  {
   "cell_type": "markdown",
   "metadata": {},
   "source": [
    "The curl is evaluated at each point in a vector field (here for example the vector field F describing the flow of a fluid around the axis).\n",
    "\n",
    "The curl(F) can be thought of as the green vector representing the rotation of the small ball itself at that point. It's length represents the speed of that rotation.\n",
    "It is not the same as the macroscopic flow represented by the gray arrows.\n",
    "\n",
    "<img src=\"images/curl_mathinsight.png\" style=\"width: 300px; float: left;\"/>\n",
    "<!--Image from http://mathinsight.org/curl_subtleties -->\n",
    "\n"
   ]
  },
  {
   "cell_type": "markdown",
   "metadata": {},
   "source": [
    "\n",
    "## Seismological applications for matrices and systems of equations \n",
    "\n",
    "* Stress and strain tensors\n",
    "* Calculating interpolation or differential operators for finite-difference methods\n",
    "* Eigenvectors and eigenvalues for deformation and stress problems (e.g. boreholes)\n",
    "* Norm: how to compare data with theory\n",
    "* Matrix inversion: solving for tomographic images\n",
    "* Measuring strain and rotations"
   ]
  },
  {
   "cell_type": "markdown",
   "metadata": {},
   "source": [
    "## 3) Series \n",
    "\n",
    "### Taylor Expansion\n",
    "\n",
    "Many (mildly or wildly nonlinear) physical systems are transformed to linear systems by using Taylor series\n",
    "\n",
    "<img src=\"images/series1.png\" style=\"width: 400px; float: left;\"/>"
   ]
  },
  {
   "cell_type": "markdown",
   "metadata": {},
   "source": [
    "### Fourier Series \n",
    "\n",
    "Each periodic function that satisfies the Dirichlet conditions (if interested see: https://en.wikipedia.org/wiki/Dirichlet_conditions) can be represented by a Fourier Series, i.e. as the sum of simple sine and cosine waves.\n"
   ]
  },
  {
   "cell_type": "markdown",
   "metadata": {},
   "source": [
    "Fourier Series and its coefficients: \n",
    "\n",
    "<img src=\"images/series3.png\" style=\"width: 400px; float: left;\"/>"
   ]
  },
  {
   "cell_type": "markdown",
   "metadata": {},
   "source": [
    "## Seismological applications for Taylor and Fourier series \n",
    "\n",
    "* Any Fourier transformation, filtering\n",
    "* Approximating source input functions (e.g., step functions)\n",
    "* Numerical operators (“Taylor operators”)\n",
    "* Solutions to wave equations\n",
    "* Linearization of strain - deformation\n",
    "\n",
    "We will spend more time on the Taylor series/Fourier series later in the course. "
   ]
  },
  {
   "cell_type": "markdown",
   "metadata": {},
   "source": [
    "## 4) Delta Function\n",
    "\n",
    "The Delta function can be imagined as a function on the real line which is zero everywhere except at the origin, where it is infinite.\n",
    "\n",
    "**Definition:**\n",
    "\n",
    "<img src=\"images/deltafunction_def.png\" style=\"width: 250px; float: left;\"/> "
   ]
  },
  {
   "cell_type": "markdown",
   "metadata": {},
   "source": [
    "and\n",
    "\n",
    "<img src=\"images/deltafunction_def2.png\" style=\"width: 150px; float: left;\"/>"
   ]
  },
  {
   "cell_type": "markdown",
   "metadata": {},
   "source": [
    "### Delta function - generating series \n",
    "\n",
    "The following are some commonly used approximations to the Delta function:\n",
    "\n",
    "<img src=\"images/delta2.png\" style=\"width: 400px; float: left;\"/>\n"
   ]
  },
  {
   "cell_type": "markdown",
   "metadata": {},
   "source": [
    "### Seismological applications of the  delta function\n",
    "\n",
    "* As input to any system (the Earth, a seismometers …)\n",
    "* As description for seismic source signals in time and space, e.g., with M$_{ij}$  the source moment tensor\n",
    "\n",
    "\n",
    "<img src=\"images/delta3.png\" style=\"width: 400px; float: left;\"/>"
   ]
  },
  {
   "cell_type": "markdown",
   "metadata": {},
   "source": [
    "* As input to any linear system -> response Function, Green’s function"
   ]
  },
  {
   "cell_type": "markdown",
   "metadata": {
    "collapsed": true
   },
   "source": [
    "## Extra Resources: \n",
    "    \n",
    "There are some nice explanations as well as some videos of div, grad and curl are on  http://mathinsight.org."
   ]
  },
  {
   "cell_type": "markdown",
   "metadata": {
    "collapsed": true
   },
   "source": [
    "## Acknowledgements: \n",
    "\n",
    "The practical is based on lecture notes from Heiner Igel.\n",
    "The images on div, grad and curl are from http://mathinsight.org. \n"
   ]
  },
  {
   "cell_type": "code",
   "execution_count": null,
   "metadata": {
    "collapsed": true
   },
   "outputs": [],
   "source": []
  }
 ],
 "metadata": {
  "anaconda-cloud": {},
  "kernelspec": {
   "display_name": "Python 3",
   "language": "python",
   "name": "python3"
  },
  "language_info": {
   "codemirror_mode": {
    "name": "ipython",
    "version": 3
   },
   "file_extension": ".py",
   "mimetype": "text/x-python",
   "name": "python",
   "nbconvert_exporter": "python",
   "pygments_lexer": "ipython3",
   "version": "3.6.3"
  }
 },
 "nbformat": 4,
 "nbformat_minor": 1
}
